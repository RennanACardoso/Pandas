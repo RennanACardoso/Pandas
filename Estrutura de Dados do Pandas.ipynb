{
 "cells": [
  {
   "cell_type": "markdown",
   "metadata": {},
   "source": [
    "Neste notebook iremos trabalhar:\n",
    " - Carga de dados manual\n",
    " - O objeto Series\n",
    " - Operação básica em objetos Series\n",
    " - O objeto DataFrame\n",
    " - Subconjuntos condicionais e fatiamento e indexação sofisticados\n",
    " - Como salvar dados"
   ]
  },
  {
   "cell_type": "code",
   "execution_count": 2,
   "metadata": {},
   "outputs": [],
   "source": [
    "#Importando biblioteca padas\n",
    "import pandas as pd"
   ]
  },
  {
   "cell_type": "code",
   "execution_count": 4,
   "metadata": {},
   "outputs": [
    {
     "name": "stdout",
     "output_type": "stream",
     "text": [
      "0    banana\n",
      "1        42\n",
      "dtype: object\n"
     ]
    }
   ],
   "source": [
    "'''\n",
    "O modo mais fácil de criar uma Serie é passando uma list Python.\n",
    "Se passarmos  uma lista com tipos misturados, a representação mais comun usada.\n",
    "Em geral, dtype será um objeto\n",
    "'''\n",
    "s = pd.Series(['banana', 42])\n",
    "print(s)"
   ]
  },
  {
   "cell_type": "code",
   "execution_count": 6,
   "metadata": {},
   "outputs": [
    {
     "name": "stdout",
     "output_type": "stream",
     "text": [
      "Pessoa      Rennan Cardoso\n",
      "Funcao    Instrutor Pandas\n",
      "dtype: object\n"
     ]
    }
   ],
   "source": [
    "# atribuindo valores de índice manualmente em uma séria\n",
    "# passando uma list Python\n",
    "s = pd.Series(['Rennan Cardoso', 'Instrutor Pandas'], index=['Pessoa','Funcao'])\n",
    "print(s)"
   ]
  },
  {
   "cell_type": "code",
   "execution_count": 11,
   "metadata": {},
   "outputs": [
    {
     "name": "stdout",
     "output_type": "stream",
     "text": [
      "                Nome     Ocupacao  nascimento  ano\n",
      "0  Rosaline Franklin    Cientista  1920-07-25   37\n",
      "1     Willian Gosset  Estatistico  1876-06-13   61\n"
     ]
    }
   ],
   "source": [
    "# Criando DataFrame\n",
    "# podemos pensar em um DataFrame como um dicionario de objetos Series. É por isso que os dicionários são o modo mais comum\n",
    "# de criar dataFrame. Key representa o nome da coluna e values são os conteudos.\n",
    "\n",
    "cientistas = pd.DataFrame({\n",
    "    'Nome':['Rosaline Franklin', 'Willian Gosset'],\n",
    "    'Ocupacao':['Cientista','Estatistico'],\n",
    "    'nascimento':['1920-07-25','1876-06-13'],\n",
    "    'ano':[37,61]})\n",
    "print(cientistas)"
   ]
  },
  {
   "cell_type": "code",
   "execution_count": 12,
   "metadata": {},
   "outputs": [
    {
     "name": "stdout",
     "output_type": "stream",
     "text": [
      "                      Ocupacao  nascimento  ano\n",
      "Rosaline Franklin    Cientista  1920-07-25   37\n",
      "William Gosset     Estatistico  1825-06-13   61\n"
     ]
    }
   ],
   "source": [
    "'''\n",
    "Observemos que é possível usar o parâmetro columns ou especificar a ordem das colunas.\n",
    "Se quisermos usar a coluna name para o índice da linha, podemos usar o parâmetro index.\n",
    "'''\n",
    "cientistas = pd.DataFrame(\n",
    "    data={'Ocupacao':['Cientista','Estatistico'],\n",
    "         'nascimento':['1920-07-25','1825-06-13'],\n",
    "         'ano':[37,61]},\n",
    "    index=['Rosaline Franklin','William Gosset'],\n",
    "    columns=['Ocupacao','nascimento','ano'])\n",
    "print(cientistas)"
   ]
  },
  {
   "cell_type": "markdown",
   "metadata": {},
   "source": [
    "# Series"
   ]
  },
  {
   "cell_type": "code",
   "execution_count": 17,
   "metadata": {},
   "outputs": [
    {
     "name": "stdout",
     "output_type": "stream",
     "text": [
      "                       ocupacao  nascimento  ano\n",
      "Rosaline Frankilin    Cientista  1290-07-25   37\n",
      "William Gosset      Estatistico  1876-06-13   61\n"
     ]
    }
   ],
   "source": [
    "'''\n",
    "Vimos como o método de fatiamento afeta o type do resultado. Se usarmos o atribulo loc para gerar \n",
    "o subconjunto com a primeira linha de nosso dataframe cientista, obteremos um objeto Series.\n",
    "'''\n",
    "# Primeiro criaremos o nosso DataFrame de exemplo\n",
    "# Com um rótulo de índice das linhas\n",
    "cientista = pd.DataFrame(\n",
    "    data={'ocupacao':['Cientista','Estatistico'],\n",
    "          'nascimento':['1290-07-25','1876-06-13'],\n",
    "          'ano':[37,61]},\n",
    "    index=['Rosaline Frankilin','William Gosset'],\n",
    "    columns=['ocupacao','nascimento','ano'])\n",
    "print(cientista)"
   ]
  },
  {
   "cell_type": "code",
   "execution_count": 18,
   "metadata": {},
   "outputs": [
    {
     "name": "stdout",
     "output_type": "stream",
     "text": [
      "<class 'pandas.core.series.Series'>\n"
     ]
    }
   ],
   "source": [
    "# Agora selecionaremos um cientista pelo rótulo do índice da linha.\n",
    "# Leciona pelo rótulo do indice da linha\n",
    "primeira_linha = cientista.loc['William Gosset']\n",
    "print(type(primeira_linha))"
   ]
  },
  {
   "cell_type": "code",
   "execution_count": 19,
   "metadata": {},
   "outputs": [
    {
     "name": "stdout",
     "output_type": "stream",
     "text": [
      "ocupacao      Estatistico\n",
      "nascimento     1876-06-13\n",
      "ano                    61\n",
      "Name: William Gosset, dtype: object\n"
     ]
    }
   ],
   "source": [
    "print(primeira_linha)"
   ]
  },
  {
   "cell_type": "code",
   "execution_count": 20,
   "metadata": {},
   "outputs": [
    {
     "name": "stdout",
     "output_type": "stream",
     "text": [
      "Index(['ocupacao', 'nascimento', 'ano'], dtype='object')\n"
     ]
    }
   ],
   "source": [
    "# Ao exibir uma séria o indice é apresentado como a primeira \"coluna\", e os valores como a segunda \"coluna\"\n",
    "# Dentre muitos atributos e métodos existentes associados a um objeto Series, \n",
    "# Ver documentação: https://pandas.pydata.org/pandas-docs/stable/generated/pandas.Series.html\n",
    "# Veja dois exemplos, index e values\n",
    "\n",
    "print(primeira_linha.index)"
   ]
  },
  {
   "cell_type": "code",
   "execution_count": 21,
   "metadata": {},
   "outputs": [
    {
     "name": "stdout",
     "output_type": "stream",
     "text": [
      "['Estatistico' '1876-06-13' 61]\n"
     ]
    }
   ],
   "source": [
    "print(primeira_linha.values)"
   ]
  },
  {
   "cell_type": "code",
   "execution_count": 22,
   "metadata": {},
   "outputs": [
    {
     "name": "stdout",
     "output_type": "stream",
     "text": [
      "Index(['ocupacao', 'nascimento', 'ano'], dtype='object')\n"
     ]
    }
   ],
   "source": [
    "# Keys é um apelido (alias) para o atributo values\n",
    "print(primeira_linha.keys())"
   ]
  },
  {
   "cell_type": "code",
   "execution_count": 23,
   "metadata": {},
   "outputs": [
    {
     "name": "stdout",
     "output_type": "stream",
     "text": [
      "ocupacao\n"
     ]
    }
   ],
   "source": [
    "#Obtém o primeiro index usando um atributo\n",
    "print(primeira_linha.index[0])"
   ]
  },
  {
   "cell_type": "code",
   "execution_count": 24,
   "metadata": {},
   "outputs": [
    {
     "name": "stdout",
     "output_type": "stream",
     "text": [
      "ocupacao\n"
     ]
    }
   ],
   "source": [
    "#Obtém o primeiro index usando um Método\n",
    "print(primeira_linha.keys()[0])"
   ]
  },
  {
   "cell_type": "markdown",
   "metadata": {},
   "source": [
    "# SERIES É SEMELHANTE A NDARRAY\n",
    "\n",
    "A estrutura de dados do Pandas conhecida como Series é muito semelhante ao numpy.ndarray"
   ]
  },
  {
   "cell_type": "code",
   "execution_count": 25,
   "metadata": {},
   "outputs": [
    {
     "name": "stdout",
     "output_type": "stream",
     "text": [
      "Rosaline Frankilin    37\n",
      "William Gosset        61\n",
      "Name: ano, dtype: int64\n"
     ]
    }
   ],
   "source": [
    "#Obtem a coluna 'Ano'\n",
    "anos = cientista['ano']\n",
    "print(anos)"
   ]
  },
  {
   "cell_type": "code",
   "execution_count": 27,
   "metadata": {},
   "outputs": [
    {
     "name": "stdout",
     "output_type": "stream",
     "text": [
      "Media de anos: 49.0\n",
      "Menor ano 37\n",
      "Maior ano 61\n",
      "Desvio padrão 16.97056274847714\n"
     ]
    }
   ],
   "source": [
    "#Quanto tempos vetores numéricos, alguns calculos podem ser execultados\n",
    "print('Media de anos:', anos.mean())\n",
    "print('Menor ano', anos.min())\n",
    "print('Maior ano', anos.max())\n",
    "print('Desvio padrão', anos.std())\n"
   ]
  },
  {
   "cell_type": "markdown",
   "metadata": {},
   "source": [
    "# DataFrame\n"
   ]
  },
  {
   "cell_type": "code",
   "execution_count": null,
   "metadata": {},
   "outputs": [],
   "source": []
  }
 ],
 "metadata": {
  "kernelspec": {
   "display_name": "Python 3",
   "language": "python",
   "name": "python3"
  },
  "language_info": {
   "codemirror_mode": {
    "name": "ipython",
    "version": 3
   },
   "file_extension": ".py",
   "mimetype": "text/x-python",
   "name": "python",
   "nbconvert_exporter": "python",
   "pygments_lexer": "ipython3",
   "version": "3.7.1"
  }
 },
 "nbformat": 4,
 "nbformat_minor": 2
}
