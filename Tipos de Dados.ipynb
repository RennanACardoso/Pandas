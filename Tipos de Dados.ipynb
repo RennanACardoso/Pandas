{
 "cells": [
  {
   "cell_type": "markdown",
   "metadata": {},
   "source": [
    "# Tipos de dados"
   ]
  },
  {
   "cell_type": "markdown",
   "metadata": {},
   "source": [
    "Os tipos de dados determinam o que pode e o que não pode ser feito com uma variável (isto é, coluna). Por exemplo, quando tipos de dados numéricos são somados, o resultado será uma soma dos valores; por outro lado, se uma strings( no pandas, elas sao chamadas de *object*) forem somadas, elas serão concatenadas. "
   ]
  },
  {
   "cell_type": "markdown",
   "metadata": {},
   "source": [
    "## Estrutura dos estudos\n",
    "### 1) Como encontrar os tipos de dados das colunas em um dataframe\n",
    "### 2) Conversão entre diversos tipos de dados\n",
    "### 3) Como trabalhar com dados categorizados"
   ]
  },
  {
   "cell_type": "markdown",
   "metadata": {},
   "source": [
    "## Tipos de dados"
   ]
  },
  {
   "cell_type": "code",
   "execution_count": 1,
   "metadata": {},
   "outputs": [],
   "source": [
    "#para este estudo, usaremos  o conjunto de dados embutio tips do seaborn\n",
    "\n",
    "import pandas as pd\n",
    "import seaborn as sns"
   ]
  },
  {
   "cell_type": "code",
   "execution_count": 2,
   "metadata": {},
   "outputs": [],
   "source": [
    "tips = sns.load_dataset(\"tips\")"
   ]
  },
  {
   "cell_type": "code",
   "execution_count": 3,
   "metadata": {},
   "outputs": [
    {
     "name": "stdout",
     "output_type": "stream",
     "text": [
      "total_bill     float64\n",
      "tip            float64\n",
      "sex           category\n",
      "smoker        category\n",
      "day           category\n",
      "time          category\n",
      "size             int64\n",
      "dtype: object\n"
     ]
    }
   ],
   "source": [
    "# Para obter uma lista do tipos de dados armazenados em cada coluna de nosso dataframe, chamamos o atributo dtypes.\n",
    "\n",
    "print(tips.dtypes)"
   ]
  },
  {
   "cell_type": "markdown",
   "metadata": {},
   "source": [
    "O nosso conjunto de dados inclui os tipos de dados com e sem casas decimais, respectivamente. O número após o tipo de dado numérico representa a quantidade de bits de informação que será armazenada para aquele numero em particular.\n",
    "\n",
    "O tipo de dado *Category* representa as variáveis categorizadas. "
   ]
  },
  {
   "cell_type": "markdown",
   "metadata": {},
   "source": [
    "## Convertendo tipos"
   ]
  },
  {
   "cell_type": "markdown",
   "metadata": {},
   "source": [
    "O tipo de dado armazenado em uma coluna nos determinará os tipos de funções e cálculos que podemos realizar nos dados que se encontram nessa coluna. Então é muito importante saber como fazer conversões entre tipos de dados.\n",
    "\n",
    "Em nosso dataset as variáveis **sex**, **smoke**, **day** e **time** estão armazenadas como category. em geral é muito mais fácil trabalhar com tipos de objetct para string quandoa  variável não é um numéro. \n",
    "\n",
    "Alguns datasets podem ter uma colna id na qual esse dado é armazenado como um numero, mas que nçao terá sgnificado se você fizer um cálculo nesse valor (média por exemplo)\n",
    "\n",
    "Para converter valores em strings, usamos o médoto astype na coluna. astué aceita um parâmetro dtupe que será p novo tipo de dado assumido pela coluna"
   ]
  },
  {
   "cell_type": "markdown",
   "metadata": {},
   "source": [
    "#### Convertendo objetos para string"
   ]
  },
  {
   "cell_type": "code",
   "execution_count": 4,
   "metadata": {},
   "outputs": [],
   "source": [
    "# Convertendo a coluna sex em um object para string, str.\n",
    "tips['sex_str'] = tips['sex'].astype(str)"
   ]
  },
  {
   "cell_type": "code",
   "execution_count": 5,
   "metadata": {},
   "outputs": [],
   "source": [
    "tips['criado'] = tips['smoker'].astype(str)"
   ]
  },
  {
   "cell_type": "markdown",
   "metadata": {},
   "source": [
    "Python tem tipos de dados embutidos str, float, int , complex e bool. No entanto é possível especificar qualquer dtype da biblioteca numpy."
   ]
  },
  {
   "cell_type": "markdown",
   "metadata": {},
   "source": [
    "#### Convertendo para valores numéricos "
   ]
  },
  {
   "cell_type": "markdown",
   "metadata": {},
   "source": [
    "Convertendo a coluna **total_bill** em um object para string primeiro, e então de volta para o seu *float64* original, poderíamos passar str e float para astype, respectivamente."
   ]
  },
  {
   "cell_type": "code",
   "execution_count": 6,
   "metadata": {},
   "outputs": [
    {
     "name": "stdout",
     "output_type": "stream",
     "text": [
      "total_bill      object\n",
      "tip            float64\n",
      "sex           category\n",
      "smoker        category\n",
      "day           category\n",
      "time          category\n",
      "size             int64\n",
      "sex_str         object\n",
      "criado          object\n",
      "dtype: object\n"
     ]
    }
   ],
   "source": [
    "# Converte total_bill em uma string\n",
    "tips['total_bill'] = tips['total_bill'].astype(str)\n",
    "print(tips.dtypes)"
   ]
  },
  {
   "cell_type": "code",
   "execution_count": 7,
   "metadata": {},
   "outputs": [
    {
     "name": "stdout",
     "output_type": "stream",
     "text": [
      "total_bill     float64\n",
      "tip            float64\n",
      "sex           category\n",
      "smoker        category\n",
      "day           category\n",
      "time          category\n",
      "size             int64\n",
      "sex_str         object\n",
      "criado          object\n",
      "dtype: object\n"
     ]
    }
   ],
   "source": [
    "# Converte total_bill de volta para float\n",
    "tips['total_bill'] = tips['total_bill'].astype(float)\n",
    "print(tips.dtypes)"
   ]
  },
  {
   "cell_type": "markdown",
   "metadata": {},
   "source": [
    "#### To_numeric\n",
    "Ao converter variáveis em valores numéricos (por exemplo, int, float), a função to_numeric do Pandas, a qual trata melhor os valores não numéricos, tamb pode ser usada.\n",
    "\n",
    "Como uma coluna em um dataframe deve ter o mesmo dtupe, haverá ocasiões em que uma coluna numérica conterá strings como alguns de seus valores. Por exemplo, em ve do valor NaN que presenta  uma valor ausente no Pandas, uma coluna num´rica poderia usar a strig 'missing' ou 'null' para essa finalidade. \n",
    "\n",
    "Isso faria com que toda a coluna fosse uma string do tipo object em ve de ser um tipo numérico.\n",
    "\n",
    "Vamos ober um subconjunto de nosso datagrame tips e colocar tamb um valor 'missing' na coluna total_bill para mostrar como a funão to_numeric atua."
   ]
  },
  {
   "cell_type": "code",
   "execution_count": 8,
   "metadata": {},
   "outputs": [],
   "source": [
    "# Obterm um subconjunto de tips\n",
    "tips_sub_miss = tips.head(10)"
   ]
  },
  {
   "cell_type": "code",
   "execution_count": 9,
   "metadata": {},
   "outputs": [
    {
     "name": "stdout",
     "output_type": "stream",
     "text": [
      "  total_bill   tip     sex smoker  day    time  size sex_str criado\n",
      "0      16.99  1.01  Female     No  Sun  Dinner     2  Female     No\n",
      "1    missing  1.66    Male     No  Sun  Dinner     3    Male     No\n",
      "2      21.01  3.50    Male     No  Sun  Dinner     3    Male     No\n",
      "3    missing  3.31    Male     No  Sun  Dinner     2    Male     No\n",
      "4      24.59  3.61  Female     No  Sun  Dinner     4  Female     No\n",
      "5    missing  4.71    Male     No  Sun  Dinner     4    Male     No\n",
      "6       8.77  2.00    Male     No  Sun  Dinner     2    Male     No\n",
      "7    missing  3.12    Male     No  Sun  Dinner     4    Male     No\n",
      "8      15.04  1.96    Male     No  Sun  Dinner     2    Male     No\n",
      "9      14.78  3.23    Male     No  Sun  Dinner     2    Male     No\n"
     ]
    },
    {
     "name": "stderr",
     "output_type": "stream",
     "text": [
      "C:\\Users\\Rennan Cardoso\\Anaconda3\\lib\\site-packages\\pandas\\core\\indexing.py:543: SettingWithCopyWarning: \n",
      "A value is trying to be set on a copy of a slice from a DataFrame.\n",
      "Try using .loc[row_indexer,col_indexer] = value instead\n",
      "\n",
      "See the caveats in the documentation: http://pandas.pydata.org/pandas-docs/stable/indexing.html#indexing-view-versus-copy\n",
      "  self.obj[item] = s\n"
     ]
    }
   ],
   "source": [
    "#Atribui alguns valores ausentes ('Missing')\n",
    "tips_sub_miss.loc[[1, 3, 5, 7], 'total_bill'] = 'missing'\n",
    "print(tips_sub_miss)"
   ]
  },
  {
   "cell_type": "markdown",
   "metadata": {},
   "source": [
    "Observe que **total_bill** agora é um objeto, e caso queira retornar o tipo para float, isso retornará um erro, pandas não sabe converter 'missing' em float, o mesmo erro ocorrerá para o uso de to_numeric.\n",
    "\n",
    "To_numeric tem um parametro chamado errors que determina o que acontece quando a função encontra um valor que ela não consiga converter pra um valor numérico. Por padrao esse erro é definido com o 'raise', ou seja, erros de transformações de dados.\n",
    "\n",
    "1) **raise** (default) gerará um erro se a conversão para um valor numérico não pode ser feita.<br>\n",
    "2) **coerce** devolverá NaN para valores que nçao puderem ser convertidos para valores numéricos.<br>\n",
    "3) **ignore** develverá o vetor sem converter a coluna em um valor numérico. (não fará nada)<br>\n",
    "\n",
    "Observa-se que  se passarmos o valor **'ignore'** para errors, nada mudará em nossa colina. No entanto, não veremos tampouco uma menssagem de erro.\n",
    "\n"
   ]
  },
  {
   "cell_type": "code",
   "execution_count": 11,
   "metadata": {},
   "outputs": [
    {
     "name": "stdout",
     "output_type": "stream",
     "text": [
      "  total_bill   tip     sex smoker  day    time  size sex_str criado\n",
      "0      16.99  1.01  Female     No  Sun  Dinner     2  Female     No\n",
      "1    missing  1.66    Male     No  Sun  Dinner     3    Male     No\n",
      "2      21.01  3.50    Male     No  Sun  Dinner     3    Male     No\n",
      "3    missing  3.31    Male     No  Sun  Dinner     2    Male     No\n",
      "4      24.59  3.61  Female     No  Sun  Dinner     4  Female     No\n",
      "5    missing  4.71    Male     No  Sun  Dinner     4    Male     No\n",
      "6       8.77  2.00    Male     No  Sun  Dinner     2    Male     No\n",
      "7    missing  3.12    Male     No  Sun  Dinner     4    Male     No\n",
      "8      15.04  1.96    Male     No  Sun  Dinner     2    Male     No\n",
      "9      14.78  3.23    Male     No  Sun  Dinner     2    Male     No\n"
     ]
    },
    {
     "name": "stderr",
     "output_type": "stream",
     "text": [
      "C:\\Users\\Rennan Cardoso\\Anaconda3\\lib\\site-packages\\ipykernel_launcher.py:2: SettingWithCopyWarning: \n",
      "A value is trying to be set on a copy of a slice from a DataFrame.\n",
      "Try using .loc[row_indexer,col_indexer] = value instead\n",
      "\n",
      "See the caveats in the documentation: http://pandas.pydata.org/pandas-docs/stable/indexing.html#indexing-view-versus-copy\n",
      "  \n"
     ]
    }
   ],
   "source": [
    "tips_sub_miss['total_bill'] = pd.to_numeric(\n",
    "    tips_sub_miss['total_bill'], errors='ignore')\n",
    "\n",
    "print(tips_sub_miss)"
   ]
  },
  {
   "cell_type": "code",
   "execution_count": 13,
   "metadata": {},
   "outputs": [
    {
     "name": "stdout",
     "output_type": "stream",
     "text": [
      "   total_bill   tip     sex smoker  day    time  size sex_str criado\n",
      "0       16.99  1.01  Female     No  Sun  Dinner     2  Female     No\n",
      "1         NaN  1.66    Male     No  Sun  Dinner     3    Male     No\n",
      "2       21.01  3.50    Male     No  Sun  Dinner     3    Male     No\n",
      "3         NaN  3.31    Male     No  Sun  Dinner     2    Male     No\n",
      "4       24.59  3.61  Female     No  Sun  Dinner     4  Female     No\n",
      "5         NaN  4.71    Male     No  Sun  Dinner     4    Male     No\n",
      "6        8.77  2.00    Male     No  Sun  Dinner     2    Male     No\n",
      "7         NaN  3.12    Male     No  Sun  Dinner     4    Male     No\n",
      "8       15.04  1.96    Male     No  Sun  Dinner     2    Male     No\n",
      "9       14.78  3.23    Male     No  Sun  Dinner     2    Male     No\n"
     ]
    },
    {
     "name": "stderr",
     "output_type": "stream",
     "text": [
      "C:\\Users\\Rennan Cardoso\\Anaconda3\\lib\\site-packages\\ipykernel_launcher.py:4: SettingWithCopyWarning: \n",
      "A value is trying to be set on a copy of a slice from a DataFrame.\n",
      "Try using .loc[row_indexer,col_indexer] = value instead\n",
      "\n",
      "See the caveats in the documentation: http://pandas.pydata.org/pandas-docs/stable/indexing.html#indexing-view-versus-copy\n",
      "  after removing the cwd from sys.path.\n"
     ]
    }
   ],
   "source": [
    "# Em cmparação, se passarmos o valor 'coerce', teremos vamores NaN para a string 'missing'\n",
    "\n",
    "tips_sub_miss['total_bill'] = pd.to_numeric(\n",
    "    tips_sub_miss['total_bill'], errors='coece')\n",
    "\n",
    "print(tips_sub_miss)"
   ]
  },
  {
   "cell_type": "markdown",
   "metadata": {},
   "source": [
    "#### Parametro downcast de to_numeric\n",
    "A Função to_numeric tem outro parâmetro chamado downcast, que permite algerar o dtype numerico para o nome dtype numérico possível(isto é, fazer um downcast) depois que uma coluna (ou vetor) tiver sido convertida com sucesso em um vetor numérico. Por padrão, o valor é definido como None, mas outros valores possíveis são 'integer', 'signed', 'unsiged' e 'float'."
   ]
  },
  {
   "cell_type": "code",
   "execution_count": 14,
   "metadata": {},
   "outputs": [
    {
     "name": "stdout",
     "output_type": "stream",
     "text": [
      "   total_bill   tip     sex smoker  day    time  size sex_str criado\n",
      "0       16.99  1.01  Female     No  Sun  Dinner     2  Female     No\n",
      "1         NaN  1.66    Male     No  Sun  Dinner     3    Male     No\n",
      "2       21.01  3.50    Male     No  Sun  Dinner     3    Male     No\n",
      "3         NaN  3.31    Male     No  Sun  Dinner     2    Male     No\n",
      "4       24.59  3.61  Female     No  Sun  Dinner     4  Female     No\n",
      "5         NaN  4.71    Male     No  Sun  Dinner     4    Male     No\n",
      "6        8.77  2.00    Male     No  Sun  Dinner     2    Male     No\n",
      "7         NaN  3.12    Male     No  Sun  Dinner     4    Male     No\n",
      "8       15.04  1.96    Male     No  Sun  Dinner     2    Male     No\n",
      "9       14.78  3.23    Male     No  Sun  Dinner     2    Male     No\n"
     ]
    },
    {
     "name": "stderr",
     "output_type": "stream",
     "text": [
      "C:\\Users\\Rennan Cardoso\\Anaconda3\\lib\\site-packages\\ipykernel_launcher.py:5: SettingWithCopyWarning: \n",
      "A value is trying to be set on a copy of a slice from a DataFrame.\n",
      "Try using .loc[row_indexer,col_indexer] = value instead\n",
      "\n",
      "See the caveats in the documentation: http://pandas.pydata.org/pandas-docs/stable/indexing.html#indexing-view-versus-copy\n",
      "  \"\"\"\n"
     ]
    }
   ],
   "source": [
    "# Compare os dtypes depois de termos especificado o arguimento downcast.\n",
    "tips_sub_miss['total_bill'] = pd.to_numeric(\n",
    "    tips_sub_miss['total_bill'],\n",
    "    errors='coece',\n",
    "    downcast='float')\n",
    "print(tips_sub_miss)"
   ]
  },
  {
   "cell_type": "code",
   "execution_count": 15,
   "metadata": {},
   "outputs": [
    {
     "name": "stdout",
     "output_type": "stream",
     "text": [
      "total_bill     float32\n",
      "tip            float64\n",
      "sex           category\n",
      "smoker        category\n",
      "day           category\n",
      "time          category\n",
      "size             int64\n",
      "sex_str         object\n",
      "criado          object\n",
      "dtype: object\n"
     ]
    }
   ],
   "source": [
    "import re \n",
    "print(tips_sub_miss.dtypes)"
   ]
  },
  {
   "cell_type": "markdown",
   "metadata": {},
   "source": [
    "Veja que o tipo de dados em 'total_bill' foi alterado de float64 para float32"
   ]
  },
  {
   "cell_type": "markdown",
   "metadata": {},
   "source": [
    "#### Dados Categorizados\n",
    "Nem todos os valores são numéricos. O Pandas tem um **dtype category** capaz de codificar valores de categorias. Eis alguns casos de uso para dados categorizados\n",
    "\n",
    "1) Armazenar dados desse modo pode ser mais eficaz quanto à memória e à velocidade, particularmente se o conjunto de dados incluir muitos valores repedidos de string.\n",
    "\n",
    "2) Dados categorizados podem ser aproproados quando uma coluna de valroes tiver uma ordem (por exemplo, uma escala de Likert).\n",
    "\n",
    "3) Algumas bibliotecas Puthon sabem lidar com dados categorizados (por exemplo, na adequação de modelos estatisticos)."
   ]
  },
  {
   "cell_type": "code",
   "execution_count": 16,
   "metadata": {},
   "outputs": [
    {
     "name": "stdout",
     "output_type": "stream",
     "text": [
      "<class 'pandas.core.frame.DataFrame'>\n",
      "RangeIndex: 244 entries, 0 to 243\n",
      "Data columns (total 9 columns):\n",
      "total_bill    244 non-null float64\n",
      "tip           244 non-null float64\n",
      "sex           244 non-null object\n",
      "smoker        244 non-null category\n",
      "day           244 non-null category\n",
      "time          244 non-null category\n",
      "size          244 non-null int64\n",
      "sex_str       244 non-null object\n",
      "criado        244 non-null object\n",
      "dtypes: category(3), float64(2), int64(1), object(3)\n",
      "memory usage: 12.6+ KB\n",
      "None\n"
     ]
    }
   ],
   "source": [
    "# Conversão para categoria\n",
    "# Para converter uma coluna em um tipo categoria, passamos category ao método astupe.\n",
    "# Converte uma coluna em um tipo categoria, passamos categoru ao mpedoto astype.\n",
    "# Converte a coluna sex em uma stringo object antes\n",
    "\n",
    "tips['sex'] = tips['sex'].astype('str')\n",
    "print(tips.info())\n"
   ]
  },
  {
   "cell_type": "code",
   "execution_count": 17,
   "metadata": {},
   "outputs": [
    {
     "name": "stdout",
     "output_type": "stream",
     "text": [
      "<class 'pandas.core.frame.DataFrame'>\n",
      "RangeIndex: 244 entries, 0 to 243\n",
      "Data columns (total 9 columns):\n",
      "total_bill    244 non-null float64\n",
      "tip           244 non-null float64\n",
      "sex           244 non-null category\n",
      "smoker        244 non-null category\n",
      "day           244 non-null category\n",
      "time          244 non-null category\n",
      "size          244 non-null int64\n",
      "sex_str       244 non-null object\n",
      "criado        244 non-null object\n",
      "dtypes: category(4), float64(2), int64(1), object(2)\n",
      "memory usage: 11.0+ KB\n",
      "None\n"
     ]
    }
   ],
   "source": [
    "# converte a coluna sex de volta para dados categorizados\n",
    "\n",
    "tips['sex'] = tips['sex'].astype('category')\n",
    "print(tips.info())"
   ]
  },
  {
   "cell_type": "code",
   "execution_count": null,
   "metadata": {},
   "outputs": [],
   "source": []
  }
 ],
 "metadata": {
  "kernelspec": {
   "display_name": "Python 3",
   "language": "python",
   "name": "python3"
  },
  "language_info": {
   "codemirror_mode": {
    "name": "ipython",
    "version": 3
   },
   "file_extension": ".py",
   "mimetype": "text/x-python",
   "name": "python",
   "nbconvert_exporter": "python",
   "pygments_lexer": "ipython3",
   "version": "3.7.1"
  }
 },
 "nbformat": 4,
 "nbformat_minor": 2
}
