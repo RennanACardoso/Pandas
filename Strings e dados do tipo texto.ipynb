{
 "cells": [
  {
   "cell_type": "markdown",
   "metadata": {},
   "source": [
    "# String e dados tipo texto"
   ]
  },
  {
   "cell_type": "markdown",
   "metadata": {},
   "source": [
    "### Objetivos\n",
    "#### 1. Obtenção de subconjuntos de strings <br> 2. Método de string <br> 3. Formatação de string <br> 4. Expressões Regulares\n"
   ]
  },
  {
   "cell_type": "markdown",
   "metadata": {},
   "source": [
    "Em Python, uma string é simplesmente uma série de caracteres. Elas são criadas por um conjunto entre aspas, simples ou duplas."
   ]
  },
  {
   "cell_type": "code",
   "execution_count": 1,
   "metadata": {},
   "outputs": [],
   "source": [
    "# Exmplo\n",
    "t1 = 'Pandas'\n",
    "t2 = 'rennan'\n",
    "# o exemplo acima criou duas strings."
   ]
  },
  {
   "cell_type": "markdown",
   "metadata": {},
   "source": [
    "#### Fatiando strings\n",
    "Podemos pensar nas strings como um contêiner de caracteres. Vocêpode obter um subconjunto de uma string como faria com qualquer outro contêiner Python (por exemplo, list ou Series).\n",
    "![texo](1.png \"Posições dos índices para a string 'pandas' \")"
   ]
  },
  {
   "cell_type": "markdown",
   "metadata": {},
   "source": [
    "![texto](2.png \"Posições do indices para a string 'rennan'\")"
   ]
  },
  {
   "cell_type": "markdown",
   "metadata": {},
   "source": [
    "Para obter a primeira letra de nossas strings, podemos usar a notação de colchetes, []. Essa notação corresponde ao mesmo método que usa-se para fatiamento de dados."
   ]
  },
  {
   "cell_type": "code",
   "execution_count": 2,
   "metadata": {},
   "outputs": [
    {
     "name": "stdout",
     "output_type": "stream",
     "text": [
      "P\n"
     ]
    }
   ],
   "source": [
    "print(t1[0])"
   ]
  },
  {
   "cell_type": "code",
   "execution_count": 3,
   "metadata": {},
   "outputs": [
    {
     "name": "stdout",
     "output_type": "stream",
     "text": [
      "r\n"
     ]
    }
   ],
   "source": [
    "print(t2[0])"
   ]
  },
  {
   "cell_type": "code",
   "execution_count": 4,
   "metadata": {},
   "outputs": [
    {
     "name": "stdout",
     "output_type": "stream",
     "text": [
      "Pan\n"
     ]
    }
   ],
   "source": [
    "'''\n",
    "Como alternativa, podemos usar a notação de fatiamento para obter intervalos de nossas strings\n",
    "'''\n",
    "# Obter os tres primeiros caracteres;\n",
    "# Note q o indice 3 é, na verdade o 4º Caractere\n",
    "print(t1[0:3])"
   ]
  },
  {
   "cell_type": "code",
   "execution_count": 5,
   "metadata": {},
   "outputs": [
    {
     "name": "stdout",
     "output_type": "stream",
     "text": [
      "Pan\n"
     ]
    }
   ],
   "source": [
    "#Este método é equivalente ao anterior citado.\n",
    "print(t1[:3])"
   ]
  },
  {
   "cell_type": "code",
   "execution_count": 6,
   "metadata": {},
   "outputs": [
    {
     "name": "stdout",
     "output_type": "stream",
     "text": [
      "rennan\n"
     ]
    }
   ],
   "source": [
    "#Outra foram de espeficicar a string toda é deixar os dois valores vazios\n",
    "print(t2[:])"
   ]
  },
  {
   "cell_type": "markdown",
   "metadata": {},
   "source": [
    "### Fatiamento com incremento"
   ]
  },
  {
   "cell_type": "markdown",
   "metadata": {},
   "source": [
    "A ultima notação para fatiamente nos permite fatiar em incrementos. Para isso use um seguindo dois-pontos, : , para especificar um terceiro número. Esse permite determinar o incremento com base no qual os valores serão extraidos.\n",
    "\n",
    "Por exemplo, podemos obter uma stringo com os caracteres alternados passando 2 para considerar todo seguindo caractere."
   ]
  },
  {
   "cell_type": "code",
   "execution_count": 7,
   "metadata": {},
   "outputs": [
    {
     "name": "stdout",
     "output_type": "stream",
     "text": [
      "rna\n"
     ]
    }
   ],
   "source": [
    "print(t2[::2])"
   ]
  },
  {
   "cell_type": "code",
   "execution_count": 8,
   "metadata": {},
   "outputs": [
    {
     "name": "stdout",
     "output_type": "stream",
     "text": [
      "Pna\n"
     ]
    }
   ],
   "source": [
    "print(t1[::2])"
   ]
  },
  {
   "cell_type": "markdown",
   "metadata": {},
   "source": [
    "Observa-se que retira-se sempre o segundo caractere, na palavra Pandas, retirou-se os caracteres \"a,d e s\"\n",
    "Qualquer inteiro pode ser passando nessa posição."
   ]
  },
  {
   "cell_type": "markdown",
   "metadata": {},
   "source": [
    "Muitos métodos também são usados quando processamos dados em Python. Segue um resumos de alguns métodos comumente usados."
   ]
  },
  {
   "cell_type": "markdown",
   "metadata": {},
   "source": [
    "![texto](3.png)"
   ]
  },
  {
   "cell_type": "markdown",
   "metadata": {},
   "source": [
    "#### Método Join"
   ]
  },
  {
   "cell_type": "markdown",
   "metadata": {},
   "source": [
    "O método join aceita um contêiner (por exemplo, uma list) e devolve uma nova string contendo  cada elemento da lista. Por exemplo, suponha que queremos combinar coordenadas na notação DMS (Degrees, Minutes, seconds ou Graus, Minuros, Segundos)"
   ]
  },
  {
   "cell_type": "code",
   "execution_count": 9,
   "metadata": {},
   "outputs": [
    {
     "name": "stdout",
     "output_type": "stream",
     "text": [
      "40º 46' 52.837\" N 73º 58' 26.302\" w\n"
     ]
    }
   ],
   "source": [
    "d1 = '40º'\n",
    "m1 = \"46'\"\n",
    "s1 = '52.837\"'\n",
    "u1 = 'N'\n",
    "\n",
    "d2 = '73º'\n",
    "m2 = \"58'\"\n",
    "s2 = '26.302\"'\n",
    "u2 = 'w'\n",
    "\n",
    "# Podemos juntar todos os valores com um espaço, ' ', usando o método join no espaço\n",
    "coords = ' '.join([d1, m1, s1, u1, d2, m2, s2, u2])\n",
    "print(coords)\n"
   ]
  },
  {
   "cell_type": "markdown",
   "metadata": {},
   "source": [
    "#### Método Splitlines"
   ]
  },
  {
   "cell_type": "markdown",
   "metadata": {},
   "source": [
    "O método splitlines é semelhante ao metodo split. Em geral é usado em strings com várias linha e devolve uma lista em que cada elemento será uma linha da string multilinha."
   ]
  },
  {
   "cell_type": "code",
   "execution_count": 13,
   "metadata": {},
   "outputs": [],
   "source": [
    "mult_str = \"\"\"Guard: what? ridden on a horse?\n",
    "king Arthur: yes\"\"\""
   ]
  },
  {
   "cell_type": "code",
   "execution_count": 14,
   "metadata": {},
   "outputs": [],
   "source": [
    "mult_str_multilines = mult_str.splitlines() "
   ]
  },
  {
   "cell_type": "code",
   "execution_count": 15,
   "metadata": {},
   "outputs": [
    {
     "name": "stdout",
     "output_type": "stream",
     "text": [
      "['Guard: what? ridden on a horse?', 'king Arthur: yes']\n"
     ]
    }
   ],
   "source": [
    "print(mult_str_multilines)"
   ]
  },
  {
   "cell_type": "markdown",
   "metadata": {},
   "source": [
    "#### Formatação de string de caracteres"
   ]
  },
  {
   "cell_type": "markdown",
   "metadata": {},
   "source": [
    "Para formatar strings de caracteres, voce deve essencialmente escrever uma string com caracateres placeholders e usar o método format na string para inserir valroes nesses placeholders"
   ]
  },
  {
   "cell_type": "code",
   "execution_count": 18,
   "metadata": {},
   "outputs": [],
   "source": [
    "var ='curso de Pandas'\n",
    "s = 'isto é apenas um {}'"
   ]
  },
  {
   "cell_type": "code",
   "execution_count": 19,
   "metadata": {},
   "outputs": [
    {
     "name": "stdout",
     "output_type": "stream",
     "text": [
      "isto é apenas um curso de Pandas\n"
     ]
    }
   ],
   "source": [
    "print(s.format(var))"
   ]
  },
  {
   "cell_type": "code",
   "execution_count": 5,
   "metadata": {},
   "outputs": [
    {
     "name": "stdout",
     "output_type": "stream",
     "text": [
      "Rennan:Gostaria de estudar Pandas?\n",
      "Aluno: Pandas!? Como fuciona?\n",
      "\n"
     ]
    }
   ],
   "source": [
    "# Os placeholders também podem se referir às varipaveis diversas vezes.\n",
    "# Usando variáveis diversas vezes pelo indice\n",
    "s = \"\"\"Rennan:Gostaria de estudar {0}?\n",
    "Aluno: {0}!? Como fuciona?\n",
    "\"\"\"\n",
    "\n",
    "print(s.format('Pandas'))"
   ]
  },
  {
   "cell_type": "code",
   "execution_count": 6,
   "metadata": {},
   "outputs": [
    {
     "name": "stdout",
     "output_type": "stream",
     "text": [
      "Coordenadas do planeta Jedi:40.7815º N, 73.987º W\n"
     ]
    }
   ],
   "source": [
    "# Também podemos fornecer uma variávels aos placeholders.\n",
    "s = 'Coordenadas do planeta Jedi:{lat}, {lon}'\n",
    "print(s.format(lat='40.7815º N', lon='73.987º W'))"
   ]
  },
  {
   "cell_type": "markdown",
   "metadata": {},
   "source": [
    "### Formatação de Números"
   ]
  },
  {
   "cell_type": "code",
   "execution_count": 9,
   "metadata": {},
   "outputs": [
    {
     "name": "stdout",
     "output_type": "stream",
     "text": [
      "Alguns digitos de Pi:3.14159265359\n"
     ]
    }
   ],
   "source": [
    "# Os números também podem ser formatados\n",
    "print('Alguns digitos de Pi:{}'.format(3.14159265359))"
   ]
  },
  {
   "cell_type": "markdown",
   "metadata": {},
   "source": [
    "É possível até mesmo formatar números e usar vírgulas como separadores de milhar"
   ]
  },
  {
   "cell_type": "code",
   "execution_count": 11,
   "metadata": {},
   "outputs": [
    {
     "name": "stdout",
     "output_type": "stream",
     "text": [
      "No ano 2005, Lu Chao da China recitou 67,890 digitors de pi\n"
     ]
    }
   ],
   "source": [
    "print(\"No ano 2005, Lu Chao da China recitou {:,} digitors de pi\".\\\n",
    "     format(67890))"
   ]
  },
  {
   "cell_type": "markdown",
   "metadata": {},
   "source": [
    "Números podem ser usados para fazer um cálculo e podem ser formatados com determinado numero de valores decimais, A seguir, calcularemos uma proporção e formataremos esse valor como um percentual"
   ]
  },
  {
   "cell_type": "code",
   "execution_count": 22,
   "metadata": {},
   "outputs": [
    {
     "name": "stdout",
     "output_type": "stream",
     "text": [
      "Eu lembro 0.0001031 ou 0.0103% de quanto Lu Chao recitou\n"
     ]
    }
   ],
   "source": [
    "# o 0 em {0:.4} e em {0:.4%} refere-se ao índice 0 nesse formato\n",
    "# o .4 refere-se à quantidade de valores decimais, 4;\n",
    "# se especificarmos um %, o decimal será formatado como uma porcentagem \n",
    "\n",
    "print(\"Eu lembro {0:.4} ou {0:.4%} de quanto Lu Chao recitou\".format(7/67890))"
   ]
  },
  {
   "cell_type": "markdown",
   "metadata": {},
   "source": [
    "Por fim, podemos usar a formatação de string para preencher um número com zeros, semelhante ao modo como zfill funciona com strings. Ao lidar com dados, esse método pode ser útil se estivermos trabalhando com números de ID lidos como números, mas que devam ser strings."
   ]
  },
  {
   "cell_type": "code",
   "execution_count": 21,
   "metadata": {},
   "outputs": [
    {
     "name": "stdout",
     "output_type": "stream",
     "text": [
      "Meu Numero ID é 00042\n"
     ]
    }
   ],
   "source": [
    "# o primeiro 0 refere-se ao índice nesse formato,\n",
    "# o segundo zero refere-se ao caractere para preencher;\n",
    "# 0 5 nesse caso refere-se à quantidade de caracterres no total,\n",
    "# d indica que um dígito será usado;\n",
    "# o numero é preenchido com 0s de modo que a string como um todo tem 5 caracteres\n",
    "\n",
    "print(\"Meu Numero ID é {0:05d}\".format(42))\n"
   ]
  },
  {
   "cell_type": "markdown",
   "metadata": {},
   "source": [
    "###### Formatação no estilo do printf de C"
   ]
  },
  {
   "cell_type": "markdown",
   "metadata": {},
   "source": [
    "Outra maneira de efetuar uma formataç]ao de strings em Python é por meio do operador %. Essa opção segue o estilo de formatação do printf de C."
   ]
  },
  {
   "cell_type": "code",
   "execution_count": 1,
   "metadata": {},
   "outputs": [
    {
     "name": "stdout",
     "output_type": "stream",
     "text": [
      "EU apenas sei 7 digitos de pi\n"
     ]
    }
   ],
   "source": [
    "# d representa um número inteiro\n",
    "s = 'EU apenas sei %d digitos de pi' %7\n",
    "print(s)"
   ]
  },
  {
   "cell_type": "code",
   "execution_count": 3,
   "metadata": {},
   "outputs": [
    {
     "name": "stdout",
     "output_type": "stream",
     "text": [
      "Alguns digitos de e: 2.72\n"
     ]
    }
   ],
   "source": [
    "# s repserenta uma string\n",
    "# observe que o padrão da string usa parentese ()\n",
    "# em ves de chaves\n",
    "# a variável passada é um dicionario Python, que usa {}\n",
    "print('Alguns digitos de %(cont)s: %(value).2f' %{'cont':'e','value':2.718})"
   ]
  },
  {
   "cell_type": "markdown",
   "metadata": {},
   "source": [
    "Nossa string deve começar com a lstra f. Essa sintaxe diz a Python que temos uma string literal formatada. Podemos então usar a variável diretamente no placeholder { }, sem chamar format."
   ]
  },
  {
   "cell_type": "code",
   "execution_count": 4,
   "metadata": {},
   "outputs": [
    {
     "name": "stdout",
     "output_type": "stream",
     "text": [
      "Este é um curso de Pandas!\n"
     ]
    }
   ],
   "source": [
    "var = 'Pandas'\n",
    "s = f'Este é um curso de {var}!'\n",
    "print(s)"
   ]
  },
  {
   "cell_type": "code",
   "execution_count": 6,
   "metadata": {},
   "outputs": [
    {
     "name": "stdout",
     "output_type": "stream",
     "text": [
      "O melhor hamburguer da cidade fica em: 40.8294º,93.84s9º\n"
     ]
    }
   ],
   "source": [
    "lat = '40.8294º'\n",
    "lon = '93.84s9º'\n",
    "s = f'O melhor hamburguer da cidade fica em: {lat},{lon}'\n",
    "print(s)"
   ]
  },
  {
   "cell_type": "markdown",
   "metadata": {},
   "source": []
  },
  {
   "cell_type": "code",
   "execution_count": null,
   "metadata": {},
   "outputs": [],
   "source": []
  }
 ],
 "metadata": {
  "kernelspec": {
   "display_name": "Python 3",
   "language": "python",
   "name": "python3"
  },
  "language_info": {
   "codemirror_mode": {
    "name": "ipython",
    "version": 3
   },
   "file_extension": ".py",
   "mimetype": "text/x-python",
   "name": "python",
   "nbconvert_exporter": "python",
   "pygments_lexer": "ipython3",
   "version": "3.7.1"
  }
 },
 "nbformat": 4,
 "nbformat_minor": 2
}
